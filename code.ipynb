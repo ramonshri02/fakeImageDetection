{
 "cells": [
  {
   "attachments": {},
   "cell_type": "markdown",
   "metadata": {},
   "source": [
    "## **AI GENERATED IMAGE DETECTION**"
   ]
  },
  {
   "attachments": {},
   "cell_type": "markdown",
   "metadata": {},
   "source": [
    "**Problem Statement**\n",
    "\n",
    "With the advent of generative AI, it has become easily difficult to separate real data from AI-Generated.\n",
    "The goal is to develop a model that can identify a fake photo created by AI."
   ]
  },
  {
   "attachments": {},
   "cell_type": "markdown",
   "metadata": {},
   "source": [
    "### **IMPORTING PACKAGES**"
   ]
  },
  {
   "cell_type": "code",
   "execution_count": 1,
   "metadata": {},
   "outputs": [
    {
     "name": "stderr",
     "output_type": "stream",
     "text": [
      "/Users/Shriram/opt/anaconda3/lib/python3.9/site-packages/scipy/__init__.py:146: UserWarning: A NumPy version >=1.16.5 and <1.23.0 is required for this version of SciPy (detected version 1.23.3\n",
      "  warnings.warn(f\"A NumPy version >={np_minversion} and <{np_maxversion}\"\n"
     ]
    }
   ],
   "source": [
    "import numpy as np\n",
    "import pandas as pd\n",
    "import matplotlib.pyplot as plt\n",
    "import tensorflow as tf\n",
    "\n",
    "from sklearn.model_selection import train_test_split\n",
    "from sklearn.preprocessing import MinMaxScaler\n",
    "from sklearn.metrics import f1_score\n",
    "from sklearn.metrics import precision_recall_curve\n",
    "from sklearn.metrics import confusion_matrix\n",
    "from tensorflow.keras import layers, models\n",
    "from tensorflow.keras.callbacks import History\n",
    "\n",
    "%matplotlib inline"
   ]
  },
  {
   "attachments": {},
   "cell_type": "markdown",
   "metadata": {},
   "source": [
    "### **LOAD TRAIN DATA**\n",
    "* *A total of 5250 Data Points with 1200 features in the Training dataset*"
   ]
  },
  {
   "cell_type": "code",
   "execution_count": 2,
   "metadata": {},
   "outputs": [],
   "source": [
    "df_train = pd.read_csv('Dataset/train.csv')"
   ]
  },
  {
   "attachments": {},
   "cell_type": "markdown",
   "metadata": {},
   "source": [
    "### **DATA PREPROCESSING**"
   ]
  },
  {
   "attachments": {},
   "cell_type": "markdown",
   "metadata": {},
   "source": [
    "##### Split train data into features and labels"
   ]
  },
  {
   "cell_type": "code",
   "execution_count": 3,
   "metadata": {},
   "outputs": [],
   "source": [
    "imgFeaturesTrain = df_train.drop(['labels'], axis=1)\n",
    "imgLabelsTrain = df_train[['labels']]"
   ]
  },
  {
   "attachments": {},
   "cell_type": "markdown",
   "metadata": {},
   "source": [
    "#### Normalize the data in each row"
   ]
  },
  {
   "cell_type": "code",
   "execution_count": 4,
   "metadata": {},
   "outputs": [
    {
     "data": {
      "text/html": [
       "<div>\n",
       "<style scoped>\n",
       "    .dataframe tbody tr th:only-of-type {\n",
       "        vertical-align: middle;\n",
       "    }\n",
       "\n",
       "    .dataframe tbody tr th {\n",
       "        vertical-align: top;\n",
       "    }\n",
       "\n",
       "    .dataframe thead th {\n",
       "        text-align: right;\n",
       "    }\n",
       "</style>\n",
       "<table border=\"1\" class=\"dataframe\">\n",
       "  <thead>\n",
       "    <tr style=\"text-align: right;\">\n",
       "      <th></th>\n",
       "      <th>f_0</th>\n",
       "      <th>f_1</th>\n",
       "      <th>f_2</th>\n",
       "      <th>f_3</th>\n",
       "      <th>f_4</th>\n",
       "      <th>f_5</th>\n",
       "      <th>f_6</th>\n",
       "      <th>f_7</th>\n",
       "      <th>f_8</th>\n",
       "      <th>f_9</th>\n",
       "      <th>...</th>\n",
       "      <th>f_1190</th>\n",
       "      <th>f_1191</th>\n",
       "      <th>f_1192</th>\n",
       "      <th>f_1193</th>\n",
       "      <th>f_1194</th>\n",
       "      <th>f_1195</th>\n",
       "      <th>f_1196</th>\n",
       "      <th>f_1197</th>\n",
       "      <th>f_1198</th>\n",
       "      <th>f_1199</th>\n",
       "    </tr>\n",
       "  </thead>\n",
       "  <tbody>\n",
       "    <tr>\n",
       "      <th>0</th>\n",
       "      <td>0.209432</td>\n",
       "      <td>0.646203</td>\n",
       "      <td>0.483726</td>\n",
       "      <td>0.478653</td>\n",
       "      <td>0.291092</td>\n",
       "      <td>0.746412</td>\n",
       "      <td>0.475838</td>\n",
       "      <td>0.486175</td>\n",
       "      <td>0.438755</td>\n",
       "      <td>0.485767</td>\n",
       "      <td>...</td>\n",
       "      <td>0.343206</td>\n",
       "      <td>0.608162</td>\n",
       "      <td>0.513039</td>\n",
       "      <td>0.548018</td>\n",
       "      <td>0.333987</td>\n",
       "      <td>0.348247</td>\n",
       "      <td>0.494264</td>\n",
       "      <td>0.416755</td>\n",
       "      <td>0.188364</td>\n",
       "      <td>0.585241</td>\n",
       "    </tr>\n",
       "    <tr>\n",
       "      <th>1</th>\n",
       "      <td>0.410332</td>\n",
       "      <td>0.508281</td>\n",
       "      <td>0.378566</td>\n",
       "      <td>0.155900</td>\n",
       "      <td>0.275521</td>\n",
       "      <td>0.712065</td>\n",
       "      <td>0.207658</td>\n",
       "      <td>0.408915</td>\n",
       "      <td>0.488697</td>\n",
       "      <td>0.211260</td>\n",
       "      <td>...</td>\n",
       "      <td>0.575305</td>\n",
       "      <td>0.589692</td>\n",
       "      <td>0.695023</td>\n",
       "      <td>0.668545</td>\n",
       "      <td>0.578236</td>\n",
       "      <td>0.665912</td>\n",
       "      <td>0.348606</td>\n",
       "      <td>0.552130</td>\n",
       "      <td>0.501868</td>\n",
       "      <td>0.691056</td>\n",
       "    </tr>\n",
       "    <tr>\n",
       "      <th>2</th>\n",
       "      <td>0.523549</td>\n",
       "      <td>0.407887</td>\n",
       "      <td>0.353332</td>\n",
       "      <td>0.638671</td>\n",
       "      <td>0.665532</td>\n",
       "      <td>0.585325</td>\n",
       "      <td>0.265713</td>\n",
       "      <td>0.632048</td>\n",
       "      <td>0.295061</td>\n",
       "      <td>0.641506</td>\n",
       "      <td>...</td>\n",
       "      <td>0.522178</td>\n",
       "      <td>0.604234</td>\n",
       "      <td>0.339189</td>\n",
       "      <td>0.844101</td>\n",
       "      <td>0.347457</td>\n",
       "      <td>0.689561</td>\n",
       "      <td>0.275404</td>\n",
       "      <td>0.544424</td>\n",
       "      <td>0.532667</td>\n",
       "      <td>0.709890</td>\n",
       "    </tr>\n",
       "    <tr>\n",
       "      <th>3</th>\n",
       "      <td>0.674817</td>\n",
       "      <td>0.404037</td>\n",
       "      <td>0.173916</td>\n",
       "      <td>0.747517</td>\n",
       "      <td>0.483708</td>\n",
       "      <td>0.249070</td>\n",
       "      <td>0.576555</td>\n",
       "      <td>0.477208</td>\n",
       "      <td>0.649706</td>\n",
       "      <td>0.594335</td>\n",
       "      <td>...</td>\n",
       "      <td>0.537534</td>\n",
       "      <td>0.168815</td>\n",
       "      <td>0.460609</td>\n",
       "      <td>0.719674</td>\n",
       "      <td>0.585261</td>\n",
       "      <td>0.198785</td>\n",
       "      <td>0.393108</td>\n",
       "      <td>0.389868</td>\n",
       "      <td>0.519148</td>\n",
       "      <td>0.636451</td>\n",
       "    </tr>\n",
       "    <tr>\n",
       "      <th>4</th>\n",
       "      <td>0.530517</td>\n",
       "      <td>0.573235</td>\n",
       "      <td>0.454356</td>\n",
       "      <td>0.541520</td>\n",
       "      <td>0.574889</td>\n",
       "      <td>0.603440</td>\n",
       "      <td>0.536003</td>\n",
       "      <td>0.672866</td>\n",
       "      <td>0.416801</td>\n",
       "      <td>0.631113</td>\n",
       "      <td>...</td>\n",
       "      <td>0.572250</td>\n",
       "      <td>0.739027</td>\n",
       "      <td>0.539052</td>\n",
       "      <td>0.342639</td>\n",
       "      <td>0.690584</td>\n",
       "      <td>0.151936</td>\n",
       "      <td>0.309365</td>\n",
       "      <td>0.337122</td>\n",
       "      <td>0.626939</td>\n",
       "      <td>0.556069</td>\n",
       "    </tr>\n",
       "  </tbody>\n",
       "</table>\n",
       "<p>5 rows × 1200 columns</p>\n",
       "</div>"
      ],
      "text/plain": [
       "        f_0       f_1       f_2       f_3       f_4       f_5       f_6  \\\n",
       "0  0.209432  0.646203  0.483726  0.478653  0.291092  0.746412  0.475838   \n",
       "1  0.410332  0.508281  0.378566  0.155900  0.275521  0.712065  0.207658   \n",
       "2  0.523549  0.407887  0.353332  0.638671  0.665532  0.585325  0.265713   \n",
       "3  0.674817  0.404037  0.173916  0.747517  0.483708  0.249070  0.576555   \n",
       "4  0.530517  0.573235  0.454356  0.541520  0.574889  0.603440  0.536003   \n",
       "\n",
       "        f_7       f_8       f_9  ...    f_1190    f_1191    f_1192    f_1193  \\\n",
       "0  0.486175  0.438755  0.485767  ...  0.343206  0.608162  0.513039  0.548018   \n",
       "1  0.408915  0.488697  0.211260  ...  0.575305  0.589692  0.695023  0.668545   \n",
       "2  0.632048  0.295061  0.641506  ...  0.522178  0.604234  0.339189  0.844101   \n",
       "3  0.477208  0.649706  0.594335  ...  0.537534  0.168815  0.460609  0.719674   \n",
       "4  0.672866  0.416801  0.631113  ...  0.572250  0.739027  0.539052  0.342639   \n",
       "\n",
       "     f_1194    f_1195    f_1196    f_1197    f_1198    f_1199  \n",
       "0  0.333987  0.348247  0.494264  0.416755  0.188364  0.585241  \n",
       "1  0.578236  0.665912  0.348606  0.552130  0.501868  0.691056  \n",
       "2  0.347457  0.689561  0.275404  0.544424  0.532667  0.709890  \n",
       "3  0.585261  0.198785  0.393108  0.389868  0.519148  0.636451  \n",
       "4  0.690584  0.151936  0.309365  0.337122  0.626939  0.556069  \n",
       "\n",
       "[5 rows x 1200 columns]"
      ]
     },
     "execution_count": 4,
     "metadata": {},
     "output_type": "execute_result"
    }
   ],
   "source": [
    "scaler = MinMaxScaler()\n",
    "normalized_data = imgFeaturesTrain.apply(lambda row: scaler.fit_transform(row.values.reshape(-1, 1)).flatten(), axis=1)\n",
    "\n",
    "# Create a new DataFrame with the normalized data\n",
    "normalized_imgFeatures = pd.DataFrame(normalized_data.tolist(), columns=imgFeaturesTrain.columns)\n",
    "\n",
    "normalized_imgFeatures.head()"
   ]
  },
  {
   "attachments": {},
   "cell_type": "markdown",
   "metadata": {},
   "source": [
    "#### Converting normalized_imgFeatures and imgLabels to NumPy arrays"
   ]
  },
  {
   "cell_type": "code",
   "execution_count": 5,
   "metadata": {},
   "outputs": [],
   "source": [
    "normalized_imgFeatures = normalized_imgFeatures.to_numpy()\n",
    "imgLabels = imgLabelsTrain.to_numpy()"
   ]
  },
  {
   "attachments": {},
   "cell_type": "markdown",
   "metadata": {},
   "source": [
    "#### Reshape the normalized_imgFeatures array"
   ]
  },
  {
   "cell_type": "code",
   "execution_count": 6,
   "metadata": {},
   "outputs": [],
   "source": [
    "reshapeImgFeaturesTrain = np.reshape(normalized_imgFeatures, (-1, 20, 20, 3))"
   ]
  },
  {
   "cell_type": "code",
   "execution_count": 7,
   "metadata": {},
   "outputs": [],
   "source": [
    "X_train, X_test, y_train, y_test = train_test_split(reshapeImgFeaturesTrain, imgLabels, test_size=0.3, random_state=42)"
   ]
  },
  {
   "attachments": {},
   "cell_type": "markdown",
   "metadata": {},
   "source": [
    "### **CNN MODEL FOR CLASSIFICATION**"
   ]
  },
  {
   "cell_type": "code",
   "execution_count": 8,
   "metadata": {},
   "outputs": [
    {
     "name": "stderr",
     "output_type": "stream",
     "text": [
      "2023-06-22 19:14:50.841139: I tensorflow/core/platform/cpu_feature_guard.cc:193] This TensorFlow binary is optimized with oneAPI Deep Neural Network Library (oneDNN) to use the following CPU instructions in performance-critical operations:  SSE4.1 SSE4.2\n",
      "To enable them in other operations, rebuild TensorFlow with the appropriate compiler flags.\n"
     ]
    }
   ],
   "source": [
    "# Define the CNN model\n",
    "cnnModel = models.Sequential([\n",
    "    layers.Conv2D(filters=32, kernel_size=(3, 3), activation='relu', input_shape=(20, 20, 3)),\n",
    "    layers.MaxPooling2D(pool_size=(2, 2)),\n",
    "    layers.Conv2D(filters=64, kernel_size=(3, 3), activation='relu'),\n",
    "    layers.MaxPooling2D(pool_size=(2, 2)),\n",
    "    layers.Flatten(),\n",
    "    layers.Dense(128, activation='relu'),\n",
    "    layers.Dropout(0.5),\n",
    "    layers.Dense(1, activation='sigmoid')\n",
    "])\n",
    "\n",
    "# Compile the model\n",
    "cnnModel.compile(optimizer='adam',\n",
    "                 loss='binary_crossentropy',\n",
    "                 metrics=['accuracy'])"
   ]
  },
  {
   "attachments": {},
   "cell_type": "markdown",
   "metadata": {},
   "source": [
    "#### Train the model"
   ]
  },
  {
   "cell_type": "code",
   "execution_count": 9,
   "metadata": {},
   "outputs": [
    {
     "name": "stdout",
     "output_type": "stream",
     "text": [
      "Epoch 1/20\n",
      "74/74 [==============================] - 1s 8ms/step - loss: 0.5479 - accuracy: 0.7322\n",
      "Epoch 2/20\n",
      "74/74 [==============================] - 1s 10ms/step - loss: 0.4352 - accuracy: 0.7943\n",
      "Epoch 3/20\n",
      "74/74 [==============================] - 1s 10ms/step - loss: 0.3855 - accuracy: 0.8174\n",
      "Epoch 4/20\n",
      "74/74 [==============================] - 1s 11ms/step - loss: 0.3545 - accuracy: 0.8313\n",
      "Epoch 5/20\n",
      "74/74 [==============================] - 1s 12ms/step - loss: 0.3435 - accuracy: 0.8362\n",
      "Epoch 6/20\n",
      "74/74 [==============================] - 1s 13ms/step - loss: 0.3102 - accuracy: 0.8550\n",
      "Epoch 7/20\n",
      "74/74 [==============================] - 1s 11ms/step - loss: 0.2871 - accuracy: 0.8648\n",
      "Epoch 8/20\n",
      "74/74 [==============================] - 1s 10ms/step - loss: 0.2601 - accuracy: 0.8835\n",
      "Epoch 9/20\n",
      "74/74 [==============================] - 1s 10ms/step - loss: 0.2267 - accuracy: 0.9015\n",
      "Epoch 10/20\n",
      "74/74 [==============================] - 1s 11ms/step - loss: 0.1843 - accuracy: 0.9328\n",
      "Epoch 11/20\n",
      "74/74 [==============================] - 1s 10ms/step - loss: 0.1473 - accuracy: 0.9521\n",
      "Epoch 12/20\n",
      "74/74 [==============================] - 1s 10ms/step - loss: 0.1146 - accuracy: 0.9641\n",
      "Epoch 13/20\n",
      "74/74 [==============================] - 1s 10ms/step - loss: 0.0842 - accuracy: 0.9790\n",
      "Epoch 14/20\n",
      "74/74 [==============================] - 1s 10ms/step - loss: 0.0523 - accuracy: 0.9918\n",
      "Epoch 15/20\n",
      "74/74 [==============================] - 1s 11ms/step - loss: 0.0351 - accuracy: 0.9967\n",
      "Epoch 16/20\n",
      "74/74 [==============================] - 1s 11ms/step - loss: 0.0229 - accuracy: 1.0000\n",
      "Epoch 17/20\n",
      "74/74 [==============================] - 1s 14ms/step - loss: 0.0155 - accuracy: 0.9997\n",
      "Epoch 18/20\n",
      "74/74 [==============================] - 1s 11ms/step - loss: 0.0116 - accuracy: 1.0000\n",
      "Epoch 19/20\n",
      "74/74 [==============================] - 1s 11ms/step - loss: 0.0097 - accuracy: 1.0000\n",
      "Epoch 20/20\n",
      "74/74 [==============================] - 1s 13ms/step - loss: 0.0079 - accuracy: 1.0000\n"
     ]
    },
    {
     "data": {
      "text/plain": [
       "<keras.callbacks.History at 0x7fe92b1bcf10>"
      ]
     },
     "execution_count": 9,
     "metadata": {},
     "output_type": "execute_result"
    }
   ],
   "source": [
    "cnnModel.fit(X_train, y_train, epochs=20, batch_size=50)"
   ]
  },
  {
   "attachments": {},
   "cell_type": "markdown",
   "metadata": {},
   "source": [
    "#### Evaluate the model on test data"
   ]
  },
  {
   "cell_type": "code",
   "execution_count": 10,
   "metadata": {},
   "outputs": [
    {
     "name": "stdout",
     "output_type": "stream",
     "text": [
      "50/50 [==============================] - 0s 3ms/step - loss: 0.6124 - accuracy: 0.8190\n"
     ]
    }
   ],
   "source": [
    "loss, accuracy = cnnModel.evaluate(X_test, y_test)"
   ]
  },
  {
   "attachments": {},
   "cell_type": "markdown",
   "metadata": {},
   "source": [
    "#### Make predictions"
   ]
  },
  {
   "cell_type": "code",
   "execution_count": 11,
   "metadata": {},
   "outputs": [
    {
     "name": "stdout",
     "output_type": "stream",
     "text": [
      "50/50 [==============================] - 0s 2ms/step\n"
     ]
    }
   ],
   "source": [
    "predictions = cnnModel.predict(X_test)\n",
    "binary_predictions = (predictions > 0.5).astype(int)"
   ]
  },
  {
   "attachments": {},
   "cell_type": "markdown",
   "metadata": {},
   "source": [
    "### **ACCURACY METRICS**"
   ]
  },
  {
   "attachments": {},
   "cell_type": "markdown",
   "metadata": {},
   "source": [
    "#### **CONFUSION MATRIX**"
   ]
  },
  {
   "cell_type": "code",
   "execution_count": 12,
   "metadata": {},
   "outputs": [
    {
     "data": {
      "image/png": "[encoded data removed]",
      "text/plain": [
       "<Figure size 640x480 with 2 Axes>"
      ]
     },
     "metadata": {},
     "output_type": "display_data"
    }
   ],
   "source": [
    "# Compute confusion matrix\n",
    "cm = confusion_matrix(y_test, binary_predictions)\n",
    "\n",
    "# Define class labels \n",
    "class_labels = ['Class 0', 'Class 1']\n",
    "\n",
    "# Plot confusion matrix\n",
    "plt.imshow(cm, interpolation='nearest', cmap=plt.cm.Reds)\n",
    "plt.colorbar()\n",
    "tick_marks = np.arange(len(class_labels))\n",
    "plt.xticks(tick_marks, class_labels)\n",
    "plt.yticks(tick_marks, class_labels)\n",
    "plt.xlabel('Predicted Label')\n",
    "plt.ylabel('True Label')\n",
    "plt.title('Confusion Matrix')\n",
    "\n",
    "# Add text annotations in each cell\n",
    "thresh = cm.max() / 2\n",
    "for i in range(cm.shape[0]):\n",
    "    for j in range(cm.shape[1]):\n",
    "        plt.text(j, i, format(cm[i, j], 'd'),\n",
    "                 horizontalalignment=\"center\",\n",
    "                 color=\"white\" if cm[i, j] > thresh else \"black\")\n",
    "\n",
    "plt.tight_layout()\n",
    "plt.show()\n"
   ]
  },
  {
   "attachments": {},
   "cell_type": "markdown",
   "metadata": {},
   "source": [
    "#### **F1 SCORE CALCULATION**"
   ]
  },
  {
   "cell_type": "code",
   "execution_count": 13,
   "metadata": {},
   "outputs": [
    {
     "name": "stdout",
     "output_type": "stream",
     "text": [
      "F1 Score: 0.636015325670498\n"
     ]
    }
   ],
   "source": [
    "f1 = f1_score(y_test, binary_predictions)\n",
    "\n",
    "print(\"F1 Score:\", f1)"
   ]
  },
  {
   "attachments": {},
   "cell_type": "markdown",
   "metadata": {},
   "source": [
    "### **USING TEST DATA TO MAKE PREDICTIONS**"
   ]
  },
  {
   "attachments": {},
   "cell_type": "markdown",
   "metadata": {},
   "source": [
    "#### **Load Test Data**\n",
    "* *A total of 2250 Data Points with 1200 features in the Test dataset*"
   ]
  },
  {
   "cell_type": "code",
   "execution_count": 14,
   "metadata": {},
   "outputs": [],
   "source": [
    "df_test = pd.read_csv('Dataset/test.csv')"
   ]
  },
  {
   "cell_type": "code",
   "execution_count": 15,
   "metadata": {},
   "outputs": [],
   "source": [
    "# Splitting test data into features and id\n",
    "df_test_features = df_test.drop(['id'], axis=1)\n",
    "df_test_id = df_test[['id']]"
   ]
  },
  {
   "cell_type": "code",
   "execution_count": 16,
   "metadata": {},
   "outputs": [],
   "source": [
    "test_features = df_test_features"
   ]
  },
  {
   "cell_type": "code",
   "execution_count": 17,
   "metadata": {},
   "outputs": [],
   "source": [
    "test_features = test_features.to_numpy()"
   ]
  },
  {
   "cell_type": "code",
   "execution_count": 18,
   "metadata": {},
   "outputs": [],
   "source": [
    "test_features = np.reshape(test_features, (-1, 20, 20, 3))"
   ]
  },
  {
   "cell_type": "code",
   "execution_count": 19,
   "metadata": {},
   "outputs": [
    {
     "name": "stdout",
     "output_type": "stream",
     "text": [
      "71/71 [==============================] - 0s 3ms/step\n"
     ]
    }
   ],
   "source": [
    "predictions_Test = cnnModel.predict(test_features)"
   ]
  },
  {
   "cell_type": "code",
   "execution_count": 20,
   "metadata": {},
   "outputs": [],
   "source": [
    "binary_predictions_Test = (predictions_Test > 0.5).astype(int)"
   ]
  },
  {
   "cell_type": "code",
   "execution_count": 21,
   "metadata": {},
   "outputs": [],
   "source": [
    "labels = pd.DataFrame(binary_predictions_Test)"
   ]
  },
  {
   "attachments": {},
   "cell_type": "markdown",
   "metadata": {},
   "source": [
    "### **SOLUTION DATAFRAME**"
   ]
  },
  {
   "cell_type": "code",
   "execution_count": 22,
   "metadata": {},
   "outputs": [],
   "source": [
    "solDF = pd.DataFrame()\n",
    "solDF['id'] = df_test_id\n",
    "solDF['labels'] = labels"
   ]
  },
  {
   "cell_type": "code",
   "execution_count": 23,
   "metadata": {},
   "outputs": [
    {
     "data": {
      "text/html": [
       "<div>\n",
       "<style scoped>\n",
       "    .dataframe tbody tr th:only-of-type {\n",
       "        vertical-align: middle;\n",
       "    }\n",
       "\n",
       "    .dataframe tbody tr th {\n",
       "        vertical-align: top;\n",
       "    }\n",
       "\n",
       "    .dataframe thead th {\n",
       "        text-align: right;\n",
       "    }\n",
       "</style>\n",
       "<table border=\"1\" class=\"dataframe\">\n",
       "  <thead>\n",
       "    <tr style=\"text-align: right;\">\n",
       "      <th></th>\n",
       "      <th>id</th>\n",
       "      <th>labels</th>\n",
       "    </tr>\n",
       "  </thead>\n",
       "  <tbody>\n",
       "    <tr>\n",
       "      <th>0</th>\n",
       "      <td>1</td>\n",
       "      <td>0</td>\n",
       "    </tr>\n",
       "    <tr>\n",
       "      <th>1</th>\n",
       "      <td>2</td>\n",
       "      <td>0</td>\n",
       "    </tr>\n",
       "    <tr>\n",
       "      <th>2</th>\n",
       "      <td>3</td>\n",
       "      <td>1</td>\n",
       "    </tr>\n",
       "    <tr>\n",
       "      <th>3</th>\n",
       "      <td>4</td>\n",
       "      <td>0</td>\n",
       "    </tr>\n",
       "    <tr>\n",
       "      <th>4</th>\n",
       "      <td>5</td>\n",
       "      <td>0</td>\n",
       "    </tr>\n",
       "    <tr>\n",
       "      <th>5</th>\n",
       "      <td>6</td>\n",
       "      <td>1</td>\n",
       "    </tr>\n",
       "    <tr>\n",
       "      <th>6</th>\n",
       "      <td>7</td>\n",
       "      <td>0</td>\n",
       "    </tr>\n",
       "    <tr>\n",
       "      <th>7</th>\n",
       "      <td>8</td>\n",
       "      <td>0</td>\n",
       "    </tr>\n",
       "    <tr>\n",
       "      <th>8</th>\n",
       "      <td>9</td>\n",
       "      <td>1</td>\n",
       "    </tr>\n",
       "    <tr>\n",
       "      <th>9</th>\n",
       "      <td>10</td>\n",
       "      <td>1</td>\n",
       "    </tr>\n",
       "  </tbody>\n",
       "</table>\n",
       "</div>"
      ],
      "text/plain": [
       "   id  labels\n",
       "0   1       0\n",
       "1   2       0\n",
       "2   3       1\n",
       "3   4       0\n",
       "4   5       0\n",
       "5   6       1\n",
       "6   7       0\n",
       "7   8       0\n",
       "8   9       1\n",
       "9  10       1"
      ]
     },
     "execution_count": 23,
     "metadata": {},
     "output_type": "execute_result"
    }
   ],
   "source": [
    "solDF.head(10)"
   ]
  },
  {
   "attachments": {},
   "cell_type": "markdown",
   "metadata": {},
   "source": [
    "### **EXPORTING SOLUTION**"
   ]
  },
  {
   "cell_type": "code",
   "execution_count": 31,
   "metadata": {},
   "outputs": [],
   "source": [
    "solDF.to_csv('Solution.csv', index=False)"
   ]
  }
 ],
 "metadata": {
  "kernelspec": {
   "display_name": "Python 3",
   "language": "python",
   "name": "python3"
  },
  "language_info": {
   "codemirror_mode": {
    "name": "ipython",
    "version": 3
   },
   "file_extension": ".py",
   "mimetype": "text/x-python",
   "name": "python",
   "nbconvert_exporter": "python",
   "pygments_lexer": "ipython3",
   "version": "3.9.12"
  },
  "orig_nbformat": 4
 },
 "nbformat": 4,
 "nbformat_minor": 2
}
